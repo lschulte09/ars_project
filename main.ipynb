{
 "cells": [
  {
   "metadata": {},
   "cell_type": "markdown",
   "source": "",
   "id": "e45f2df2fa8e821c"
  },
  {
   "metadata": {},
   "cell_type": "markdown",
   "source": "### Week 1 - Simulator with (sufficiently realistic) robot model",
   "id": "d3c89c3b762aed9e"
  },
  {
   "metadata": {
    "ExecuteTime": {
     "end_time": "2025-04-06T08:53:52.660318Z",
     "start_time": "2025-04-06T08:53:52.566506Z"
    }
   },
   "cell_type": "code",
   "source": [
    "import numpy as np\n",
    "from MapEnvironment import MapEnvironment\n",
    "import pygame, math"
   ],
   "id": "42189f8faaf0f610",
   "outputs": [
    {
     "name": "stdout",
     "output_type": "stream",
     "text": [
      "pygame 2.6.1 (SDL 2.28.4, Python 3.12.2)\n",
      "Hello from the pygame community. https://www.pygame.org/contribute.html\n"
     ]
    }
   ],
   "execution_count": 1
  },
  {
   "metadata": {
    "ExecuteTime": {
     "end_time": "2025-04-06T08:53:52.668997Z",
     "start_time": "2025-04-06T08:53:52.666418Z"
    }
   },
   "cell_type": "code",
   "source": [
    "WHITE = (255, 255, 255)\n",
    "BLACK = (0, 0, 0)\n",
    "GRAY = (128, 128, 128)\n",
    "BLUE = (0, 0, 255)\n",
    "YELLOW = (255, 255, 0)\n",
    "GREEN = (0, 255, 0)"
   ],
   "id": "20856a88485bbb22",
   "outputs": [],
   "execution_count": 2
  },
  {
   "cell_type": "code",
   "id": "initial_id",
   "metadata": {
    "collapsed": true,
    "ExecuteTime": {
     "end_time": "2025-04-06T08:53:52.704638Z",
     "start_time": "2025-04-06T08:53:52.699461Z"
    }
   },
   "source": [
    "def main():\n",
    "    pygame.init()\n",
    "    width, height = 800, 600\n",
    "    screen = pygame.display.set_mode((width, height))\n",
    "    pygame.display.set_caption(\"Interactive Robot Simulation\")\n",
    "    clock = pygame.time.Clock()\n",
    "\n",
    "    # Create the environment with obstacles and dust.\n",
    "    env = MapEnvironment(width, height, num_obstacles=8, num_dust=20)\n",
    "    # Place the robot at the center with a 45° orientation.\n",
    "    env.place_robot(width / 2, height / 2, math.radians(45))\n",
    "\n",
    "    running = True\n",
    "    while running:\n",
    "        dt = clock.tick(60) / 1000.0  # Delta time in seconds.\n",
    "        for event in pygame.event.get():\n",
    "            if event.type == pygame.QUIT:\n",
    "                running = False\n",
    "\n",
    "            # Keyboard controls to move the robot.\n",
    "            if event.type == pygame.KEYDOWN:\n",
    "                if event.key == pygame.K_UP:\n",
    "                    env.robot.linear_velocity = 100  # Move forward.\n",
    "                elif event.key == pygame.K_DOWN:\n",
    "                    env.robot.linear_velocity = -100  # Move backward.\n",
    "                elif event.key == pygame.K_LEFT:\n",
    "                    env.robot.angular_velocity = -math.radians(90)  # Rotate left.\n",
    "                elif event.key == pygame.K_RIGHT:\n",
    "                    env.robot.angular_velocity = math.radians(90)   # Rotate right.\n",
    "            if event.type == pygame.KEYUP:\n",
    "                if event.key in [pygame.K_UP, pygame.K_DOWN]:\n",
    "                    env.robot.linear_velocity = 0\n",
    "                if event.key in [pygame.K_LEFT, pygame.K_RIGHT]:\n",
    "                    env.robot.angular_velocity = 0\n",
    "\n",
    "        # Update the robot's position.\n",
    "        if env.robot:\n",
    "            env.robot.update(dt)\n",
    "\n",
    "        # Clear the screen.\n",
    "        screen.fill(WHITE)\n",
    "        # Draw the environment.\n",
    "        env.draw(screen)\n",
    "        pygame.display.flip()\n",
    "\n",
    "    pygame.quit()\n",
    "\n"
   ],
   "outputs": [],
   "execution_count": 3
  },
  {
   "metadata": {
    "ExecuteTime": {
     "end_time": "2025-04-06T08:53:59.141872Z",
     "start_time": "2025-04-06T08:53:52.713710Z"
    }
   },
   "cell_type": "code",
   "source": [
    "if __name__ == '__main__':\n",
    "    main()"
   ],
   "id": "7549797157b1eb71",
   "outputs": [],
   "execution_count": 4
  }
 ],
 "metadata": {
  "kernelspec": {
   "display_name": "Python 3",
   "language": "python",
   "name": "python3"
  },
  "language_info": {
   "codemirror_mode": {
    "name": "ipython",
    "version": 2
   },
   "file_extension": ".py",
   "mimetype": "text/x-python",
   "name": "python",
   "nbconvert_exporter": "python",
   "pygments_lexer": "ipython2",
   "version": "2.7.6"
  }
 },
 "nbformat": 4,
 "nbformat_minor": 5
}
