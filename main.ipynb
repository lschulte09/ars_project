{
 "cells": [
  {
   "cell_type": "markdown",
   "id": "e45f2df2fa8e821c",
   "metadata": {},
   "source": []
  },
  {
   "cell_type": "markdown",
   "id": "d3c89c3b762aed9e",
   "metadata": {},
   "source": [
    "### Week 1 - Simulator with (sufficiently realistic) robot model"
   ]
  },
  {
   "cell_type": "code",
   "id": "42189f8faaf0f610",
   "metadata": {
    "ExecuteTime": {
     "end_time": "2025-04-09T12:55:41.877907Z",
     "start_time": "2025-04-09T12:55:41.536809Z"
    }
   },
   "source": [
    "import numpy as np\n",
    "import pygame\n",
    "from MapEnvironment import MapEnvironment\n",
    "%matplotlib inline"
   ],
   "outputs": [
    {
     "name": "stdout",
     "output_type": "stream",
     "text": [
      "pygame 2.6.1 (SDL 2.28.4, Python 3.12.2)\n",
      "Hello from the pygame community. https://www.pygame.org/contribute.html\n"
     ]
    }
   ],
   "execution_count": 2
  },
  {
   "cell_type": "code",
   "id": "initial_id",
   "metadata": {
    "collapsed": true,
    "ExecuteTime": {
     "end_time": "2025-04-09T12:57:14.206909Z",
     "start_time": "2025-04-09T12:55:42.565209Z"
    }
   },
   "source": [
    "def run_simulation():\n",
    "    pygame.init()\n",
    "\n",
    "    # Create environment\n",
    "    env = MapEnvironment(800, 600, num_obstacles=5, num_dust=10)\n",
    "    env.place_robot()\n",
    "\n",
    "    running = True\n",
    "    clock = pygame.time.Clock()\n",
    "\n",
    "    while running:\n",
    "        for event in pygame.event.get():\n",
    "            if event.type == pygame.QUIT:\n",
    "                running = False\n",
    "            elif event.type == pygame.KEYDOWN:\n",
    "                # Correct: Check event.key instead of pygame.key\n",
    "                if event.key == pygame.K_ESCAPE:\n",
    "                    running = False\n",
    "\n",
    "                # Forward the event to the environment's input handler\n",
    "                env.handle_input(event=event)\n",
    "\n",
    "        env.update()\n",
    "        env.draw_screen()\n",
    "        pygame.display.flip()\n",
    "        clock.tick(60)\n",
    "\n",
    "    pygame.quit()\n",
    "\n",
    "# Run the interactive simulation\n",
    "run_simulation()\n",
    "\n",
    "# Create a static version for notebook display\n",
    "env = MapEnvironment(800, 600, num_obstacles=5, num_dust=10)\n",
    "env.place_robot()\n",
    "env.plot()\n"
   ],
   "outputs": [
    {
     "ename": "error",
     "evalue": "font not initialized",
     "output_type": "error",
     "traceback": [
      "\u001B[0;31m---------------------------------------------------------------------------\u001B[0m",
      "\u001B[0;31merror\u001B[0m                                     Traceback (most recent call last)",
      "Cell \u001B[0;32mIn[3], line 34\u001B[0m\n\u001B[1;32m     31\u001B[0m run_simulation()\n\u001B[1;32m     33\u001B[0m \u001B[38;5;66;03m# Create a static version for notebook display\u001B[39;00m\n\u001B[0;32m---> 34\u001B[0m env \u001B[38;5;241m=\u001B[39m MapEnvironment(\u001B[38;5;241m800\u001B[39m, \u001B[38;5;241m600\u001B[39m, num_obstacles\u001B[38;5;241m=\u001B[39m\u001B[38;5;241m5\u001B[39m, num_dust\u001B[38;5;241m=\u001B[39m\u001B[38;5;241m10\u001B[39m)\n\u001B[1;32m     35\u001B[0m env\u001B[38;5;241m.\u001B[39mplace_robot()\n\u001B[1;32m     36\u001B[0m env\u001B[38;5;241m.\u001B[39mplot()\n",
      "File \u001B[0;32m~/PycharmProjects/ars_project/MapEnvironment.py:34\u001B[0m, in \u001B[0;36mMapEnvironment.__init__\u001B[0;34m(self, width, height, num_obstacles, num_dust, num_landmarks, draw_bearings)\u001B[0m\n\u001B[1;32m     32\u001B[0m \u001B[38;5;28mself\u001B[39m\u001B[38;5;241m.\u001B[39mnum_landmarks \u001B[38;5;241m=\u001B[39m num_landmarks\n\u001B[1;32m     33\u001B[0m \u001B[38;5;28mself\u001B[39m\u001B[38;5;241m.\u001B[39mgenerate_landmarks()\n\u001B[0;32m---> 34\u001B[0m \u001B[38;5;28mself\u001B[39m\u001B[38;5;241m.\u001B[39mfont \u001B[38;5;241m=\u001B[39m pygame\u001B[38;5;241m.\u001B[39mfont\u001B[38;5;241m.\u001B[39mSysFont(\u001B[38;5;28;01mNone\u001B[39;00m, \u001B[38;5;241m24\u001B[39m)\n\u001B[1;32m     36\u001B[0m \u001B[38;5;66;03m# Control params\u001B[39;00m\n\u001B[1;32m     37\u001B[0m \u001B[38;5;28mself\u001B[39m\u001B[38;5;241m.\u001B[39mv_left \u001B[38;5;241m=\u001B[39m \u001B[38;5;241m0.0\u001B[39m\n",
      "File \u001B[0;32m~/miniconda3/lib/python3.12/site-packages/pygame/sysfont.py:460\u001B[0m, in \u001B[0;36mSysFont\u001B[0;34m(name, size, bold, italic, constructor)\u001B[0m\n\u001B[1;32m    457\u001B[0m \u001B[38;5;28;01mif\u001B[39;00m italic \u001B[38;5;129;01mand\u001B[39;00m \u001B[38;5;129;01mnot\u001B[39;00m gotitalic:\n\u001B[1;32m    458\u001B[0m     set_italic \u001B[38;5;241m=\u001B[39m \u001B[38;5;28;01mTrue\u001B[39;00m\n\u001B[0;32m--> 460\u001B[0m \u001B[38;5;28;01mreturn\u001B[39;00m constructor(fontname, size, set_bold, set_italic)\n",
      "File \u001B[0;32m~/miniconda3/lib/python3.12/site-packages/pygame/sysfont.py:378\u001B[0m, in \u001B[0;36mfont_constructor\u001B[0;34m(fontpath, size, bold, italic)\u001B[0m\n\u001B[1;32m    366\u001B[0m \u001B[38;5;28;01mdef\u001B[39;00m \u001B[38;5;21mfont_constructor\u001B[39m(fontpath, size, bold, italic):\n\u001B[1;32m    367\u001B[0m \u001B[38;5;250m    \u001B[39m\u001B[38;5;124;03m\"\"\"\u001B[39;00m\n\u001B[1;32m    368\u001B[0m \u001B[38;5;124;03m    pygame.font specific declarations\u001B[39;00m\n\u001B[1;32m    369\u001B[0m \n\u001B[0;32m   (...)\u001B[0m\n\u001B[1;32m    375\u001B[0m \u001B[38;5;124;03m    :return: A font.Font object.\u001B[39;00m\n\u001B[1;32m    376\u001B[0m \u001B[38;5;124;03m    \"\"\"\u001B[39;00m\n\u001B[0;32m--> 378\u001B[0m     font \u001B[38;5;241m=\u001B[39m Font(fontpath, size)\n\u001B[1;32m    379\u001B[0m     \u001B[38;5;28;01mif\u001B[39;00m bold:\n\u001B[1;32m    380\u001B[0m         font\u001B[38;5;241m.\u001B[39mset_bold(\u001B[38;5;28;01mTrue\u001B[39;00m)\n",
      "\u001B[0;31merror\u001B[0m: font not initialized"
     ]
    }
   ],
   "execution_count": 3
  },
  {
   "metadata": {},
   "cell_type": "code",
   "outputs": [],
   "execution_count": null,
   "source": "",
   "id": "59e4ec0d7d87deec"
  }
 ],
 "metadata": {
  "kernelspec": {
   "display_name": ".venv",
   "language": "python",
   "name": "python3"
  },
  "language_info": {
   "codemirror_mode": {
    "name": "ipython",
    "version": 3
   },
   "file_extension": ".py",
   "mimetype": "text/x-python",
   "name": "python",
   "nbconvert_exporter": "python",
   "pygments_lexer": "ipython3",
   "version": "3.12.9"
  }
 },
 "nbformat": 4,
 "nbformat_minor": 5
}
