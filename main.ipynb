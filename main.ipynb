{
   "cells": [
      {
         "cell_type": "markdown",
         "id": "e45f2df2fa8e821c",
         "metadata": {},
         "source": []
      },
      {
         "cell_type": "markdown",
         "id": "d3c89c3b762aed9e",
         "metadata": {},
         "source": [
            "### Week 1 - Simulator with (sufficiently realistic) robot model"
         ]
      },
      {
         "cell_type": "code",
         "id": "42189f8faaf0f610",
         "metadata": {
            "ExecuteTime": {
               "end_time": "2025-04-06T19:48:00.460554Z",
               "start_time": "2025-04-06T19:48:00.122444Z"
            }
         },
         "source": [
            "import numpy as np\n",
            "import pygame\n",
            "from MapEnvironment import MapEnvironment\n",
            "%matplotlib inline"
         ],
         "outputs": [
            {
               "name": "stdout",
               "output_type": "stream",
               "text": [
                  "pygame 2.6.1 (SDL 2.28.4, Python 3.12.2)\n",
                  "Hello from the pygame community. https://www.pygame.org/contribute.html\n"
               ]
            }
         ],
         "execution_count": 1
      },
      {
         "cell_type": "code",
         "id": "initial_id",
         "metadata": {
            "collapsed": true,
            "ExecuteTime": {
               "end_time": "2025-04-06T19:49:01.240409Z",
               "start_time": "2025-04-06T19:49:01.081740Z"
            }
         },
         "source": [
            "# Cell 2: Main Simulation\n",
            "def run_simulation():\n",
            "    pygame.init()\n",
            "    \n",
            "    # Create environment\n",
            "    env = MapEnvironment(800, 600, num_obstacles=5, num_dust=10)\n",
            "    env.place_robot()\n",
            "    \n",
            "    running = True\n",
            "    clock = pygame.time.Clock()\n",
            "    \n",
            "    while running:\n",
            "        for event in pygame.event.get():\n",
            "            if event.type == pygame.QUIT:\n",
            "                running = False\n",
            "            elif event.type == pygame.KEYDOWN:\n",
            "                if event.key == pygame.K_ESCAPE:\n",
            "                    running = False\n",
            "        \n",
            "        env.handle_input()\n",
            "        env.update()\n",
            "        env.draw_screen()\n",
            "        pygame.display.flip()\n",
            "        clock.tick(60)\n",
            "    \n",
            "    pygame.quit()\n",
            "\n",
            "# Cell 3: Run simulation and show static plot\n",
            "# Run the interactive simulation\n",
            "run_simulation()\n",
            "\n",
            "# Create a static version for notebook display\n",
            "env = MapEnvironment(800, 600, num_obstacles=5, num_dust=10)\n",
            "env.place_robot()\n",
            "env.plot()"
         ],
         "outputs": [
            {
               "ename": "NameError",
               "evalue": "name 'pygame' is not defined",
               "output_type": "error",
               "traceback": [
                  "\u001B[0;31m---------------------------------------------------------------------------\u001B[0m",
                  "\u001B[0;31mNameError\u001B[0m                                 Traceback (most recent call last)",
                  "Cell \u001B[0;32mIn[1], line 30\u001B[0m\n\u001B[1;32m     26\u001B[0m     pygame\u001B[38;5;241m.\u001B[39mquit()\n\u001B[1;32m     28\u001B[0m \u001B[38;5;66;03m# Cell 3: Run simulation and show static plot\u001B[39;00m\n\u001B[1;32m     29\u001B[0m \u001B[38;5;66;03m# Run the interactive simulation\u001B[39;00m\n\u001B[0;32m---> 30\u001B[0m run_simulation()\n\u001B[1;32m     32\u001B[0m \u001B[38;5;66;03m# Create a static version for notebook display\u001B[39;00m\n\u001B[1;32m     33\u001B[0m env \u001B[38;5;241m=\u001B[39m MapEnvironment(\u001B[38;5;241m800\u001B[39m, \u001B[38;5;241m600\u001B[39m, num_obstacles\u001B[38;5;241m=\u001B[39m\u001B[38;5;241m5\u001B[39m, num_dust\u001B[38;5;241m=\u001B[39m\u001B[38;5;241m10\u001B[39m)\n",
                  "Cell \u001B[0;32mIn[1], line 3\u001B[0m, in \u001B[0;36mrun_simulation\u001B[0;34m()\u001B[0m\n\u001B[1;32m      2\u001B[0m \u001B[38;5;28;01mdef\u001B[39;00m \u001B[38;5;21mrun_simulation\u001B[39m():\n\u001B[0;32m----> 3\u001B[0m     pygame\u001B[38;5;241m.\u001B[39minit()\n\u001B[1;32m      5\u001B[0m     \u001B[38;5;66;03m# Create environment\u001B[39;00m\n\u001B[1;32m      6\u001B[0m     env \u001B[38;5;241m=\u001B[39m MapEnvironment(\u001B[38;5;241m800\u001B[39m, \u001B[38;5;241m600\u001B[39m, num_obstacles\u001B[38;5;241m=\u001B[39m\u001B[38;5;241m5\u001B[39m, num_dust\u001B[38;5;241m=\u001B[39m\u001B[38;5;241m10\u001B[39m)\n",
                  "\u001B[0;31mNameError\u001B[0m: name 'pygame' is not defined"
               ]
            }
         ],
         "execution_count": 1
      },
      {
         "metadata": {},
         "cell_type": "code",
         "outputs": [],
         "execution_count": null,
         "source": "",
         "id": "59e4ec0d7d87deec"
      }
   ],
   "metadata": {
      "kernelspec": {
         "display_name": ".venv",
         "language": "python",
         "name": "python3"
      },
      "language_info": {
         "codemirror_mode": {
            "name": "ipython",
            "version": 3
         },
         "file_extension": ".py",
         "mimetype": "text/x-python",
         "name": "python",
         "nbconvert_exporter": "python",
         "pygments_lexer": "ipython3",
         "version": "3.12.9"
      }
   },
   "nbformat": 4,
   "nbformat_minor": 5
}