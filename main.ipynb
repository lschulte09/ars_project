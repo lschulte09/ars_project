{
 "cells": [
  {
   "cell_type": "markdown",
   "id": "e45f2df2fa8e821c",
   "metadata": {},
   "source": []
  },
  {
   "cell_type": "markdown",
   "id": "d3c89c3b762aed9e",
   "metadata": {},
   "source": [
    "### Week 1 - Simulator with (sufficiently realistic) robot model"
   ]
  },
  {
   "cell_type": "code",
   "id": "42189f8faaf0f610",
   "metadata": {
    "ExecuteTime": {
     "end_time": "2025-04-09T15:44:00.418405Z",
     "start_time": "2025-04-09T15:44:00.106929Z"
    }
   },
   "source": [
    "import pygame\n",
    "from MapEnvironment import MapEnvironment\n",
    "%matplotlib inline"
   ],
   "outputs": [
    {
     "name": "stdout",
     "output_type": "stream",
     "text": [
      "pygame 2.6.1 (SDL 2.28.4, Python 3.12.2)\n",
      "Hello from the pygame community. https://www.pygame.org/contribute.html\n"
     ]
    }
   ],
   "execution_count": 1
  },
  {
   "cell_type": "code",
   "id": "initial_id",
   "metadata": {
    "collapsed": true,
    "jupyter": {
     "is_executing": true
    },
    "ExecuteTime": {
     "start_time": "2025-04-09T15:44:00.467951Z"
    }
   },
   "source": [
    "def run_simulation():\n",
    "    pygame.init()\n",
    "\n",
    "    # Create environment\n",
    "    env = MapEnvironment(800, 600, num_obstacles=5, num_dust=10)\n",
    "    env.place_robot()\n",
    "\n",
    "    running = True\n",
    "    clock = pygame.time.Clock()\n",
    "\n",
    "    while running:\n",
    "        for event in pygame.event.get():\n",
    "            if event.type == pygame.QUIT:\n",
    "                running = False\n",
    "            elif event.type == pygame.KEYDOWN:\n",
    "                # Correct: Check event.key instead of pygame.key\n",
    "                if event.key == pygame.K_ESCAPE:\n",
    "                    running = False\n",
    "\n",
    "                # Forward the event to the environment's input handler\n",
    "                env.handle_input(event=event)\n",
    "\n",
    "        env.update()\n",
    "        env.draw_screen()\n",
    "        pygame.display.flip()\n",
    "        clock.tick(60)\n",
    "\n",
    "    pygame.quit()\n",
    "\n",
    "# Run the interactive simulation\n",
    "run_simulation()\n",
    "\n",
    "# Create a static version for notebook display\n",
    "env = MapEnvironment(800, 600, num_obstacles=5, num_dust=10)\n",
    "env.place_robot()\n",
    "env.plot()\n"
   ],
   "outputs": [],
   "execution_count": null
  },
  {
   "metadata": {},
   "cell_type": "code",
   "outputs": [],
   "execution_count": null,
   "source": "",
   "id": "59e4ec0d7d87deec"
  }
 ],
 "metadata": {
  "kernelspec": {
   "display_name": ".venv",
   "language": "python",
   "name": "python3"
  },
  "language_info": {
   "codemirror_mode": {
    "name": "ipython",
    "version": 3
   },
   "file_extension": ".py",
   "mimetype": "text/x-python",
   "name": "python",
   "nbconvert_exporter": "python",
   "pygments_lexer": "ipython3",
   "version": "3.12.9"
  }
 },
 "nbformat": 4,
 "nbformat_minor": 5
}
