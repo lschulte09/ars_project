{
 "cells": [
  {
   "metadata": {},
   "cell_type": "markdown",
   "source": "",
   "id": "e45f2df2fa8e821c"
  },
  {
   "metadata": {},
   "cell_type": "markdown",
   "source": "### Week 1 - Simulator with (sufficiently realistic) robot model",
   "id": "d3c89c3b762aed9e"
  },
  {
   "metadata": {},
   "cell_type": "code",
   "outputs": [],
   "execution_count": null,
   "source": [
    "import numpy as np\n",
    "from MapEnvironment import MapEnvironment"
   ],
   "id": "42189f8faaf0f610"
  },
  {
   "cell_type": "code",
   "execution_count": null,
   "id": "initial_id",
   "metadata": {
    "collapsed": true
   },
   "outputs": [],
   "source": [
    "def main():\n",
    "    # Create an environment of size 100x100 units with 8 obstacles and 15 dust particles.\n",
    "    env = MapEnvironment(100, 100, num_obstacles=8, num_dust=15)\n",
    "    \n",
    "    # Place the robot at position (50, 50) with a 45° orientation.\n",
    "    env.place_robot(50, 50, np.deg2rad(45))\n",
    "    \n",
    "    # Visualize the environment.\n",
    "    env.plot()\n",
    "\n",
    "if __name__ == \"__main__\":\n",
    "    main()"
   ]
  }
 ],
 "metadata": {
  "kernelspec": {
   "display_name": "Python 3",
   "language": "python",
   "name": "python3"
  },
  "language_info": {
   "codemirror_mode": {
    "name": "ipython",
    "version": 2
   },
   "file_extension": ".py",
   "mimetype": "text/x-python",
   "name": "python",
   "nbconvert_exporter": "python",
   "pygments_lexer": "ipython2",
   "version": "2.7.6"
  }
 },
 "nbformat": 4,
 "nbformat_minor": 5
}
