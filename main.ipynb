{
 "cells": [
  {
   "cell_type": "markdown",
   "id": "e45f2df2fa8e821c",
   "metadata": {},
   "source": []
  },
  {
   "cell_type": "markdown",
   "id": "d3c89c3b762aed9e",
   "metadata": {},
   "source": [
    "### Week 1 - Simulator with (sufficiently realistic) robot model"
   ]
  },
  {
   "cell_type": "code",
   "execution_count": 1,
   "id": "42189f8faaf0f610",
   "metadata": {
    "ExecuteTime": {
     "end_time": "2025-04-06T09:10:30.538247Z",
     "start_time": "2025-04-06T09:10:24.669476Z"
    }
   },
   "outputs": [
    {
     "name": "stdout",
     "output_type": "stream",
     "text": [
      "pygame 2.6.1 (SDL 2.28.4, Python 3.12.9)\n",
      "Hello from the pygame community. https://www.pygame.org/contribute.html\n"
     ]
    }
   ],
   "source": [
    "import numpy as np\n",
    "import pygame\n",
    "from MapEnvironment import MapEnvironment\n",
    "%matplotlib inline"
   ]
  },
  {
   "cell_type": "code",
   "execution_count": null,
   "id": "initial_id",
   "metadata": {
    "ExecuteTime": {
     "end_time": "2025-04-06T09:10:34.070160Z",
     "start_time": "2025-04-06T09:10:32.975032Z"
    },
    "collapsed": true
   },
   "outputs": [
    {
     "ename": "error",
     "evalue": "font not initialized",
     "output_type": "error",
     "traceback": [
      "\u001b[31m---------------------------------------------------------------------------\u001b[39m",
      "\u001b[31merror\u001b[39m                                     Traceback (most recent call last)",
      "\u001b[36mCell\u001b[39m\u001b[36m \u001b[39m\u001b[32mIn[2]\u001b[39m\u001b[32m, line 33\u001b[39m\n\u001b[32m     30\u001b[39m run_simulation()\n\u001b[32m     32\u001b[39m \u001b[38;5;66;03m# Create a static version for notebook display\u001b[39;00m\n\u001b[32m---> \u001b[39m\u001b[32m33\u001b[39m env = \u001b[43mMapEnvironment\u001b[49m\u001b[43m(\u001b[49m\u001b[32;43m800\u001b[39;49m\u001b[43m,\u001b[49m\u001b[43m \u001b[49m\u001b[32;43m600\u001b[39;49m\u001b[43m,\u001b[49m\u001b[43m \u001b[49m\u001b[43mnum_obstacles\u001b[49m\u001b[43m=\u001b[49m\u001b[32;43m5\u001b[39;49m\u001b[43m,\u001b[49m\u001b[43m \u001b[49m\u001b[43mnum_dust\u001b[49m\u001b[43m=\u001b[49m\u001b[32;43m10\u001b[39;49m\u001b[43m)\u001b[49m\n\u001b[32m     34\u001b[39m env.place_robot()\n\u001b[32m     35\u001b[39m env.plot()\n",
      "\u001b[36mFile \u001b[39m\u001b[32mc:\\Users\\wissa\\Documents\\coding\\ars_project\\MapEnvironment.py:23\u001b[39m, in \u001b[36mMapEnvironment.__init__\u001b[39m\u001b[34m(self, width, height, num_obstacles, num_dust)\u001b[39m\n\u001b[32m     21\u001b[39m \u001b[38;5;28mself\u001b[39m.generate_obstacles(num_obstacles)\n\u001b[32m     22\u001b[39m \u001b[38;5;28mself\u001b[39m.generate_dust(num_dust)\n\u001b[32m---> \u001b[39m\u001b[32m23\u001b[39m \u001b[38;5;28mself\u001b[39m.font = \u001b[43mpygame\u001b[49m\u001b[43m.\u001b[49m\u001b[43mfont\u001b[49m\u001b[43m.\u001b[49m\u001b[43mSysFont\u001b[49m\u001b[43m(\u001b[49m\u001b[38;5;28;43;01mNone\u001b[39;49;00m\u001b[43m,\u001b[49m\u001b[43m \u001b[49m\u001b[32;43m24\u001b[39;49m\u001b[43m)\u001b[49m\n\u001b[32m     25\u001b[39m \u001b[38;5;66;03m# Control params\u001b[39;00m\n\u001b[32m     26\u001b[39m \u001b[38;5;28mself\u001b[39m.v_left = \u001b[32m0.0\u001b[39m\n",
      "\u001b[36mFile \u001b[39m\u001b[32mc:\\Users\\wissa\\Documents\\coding\\ars_project\\.venv\\Lib\\site-packages\\pygame\\sysfont.py:460\u001b[39m, in \u001b[36mSysFont\u001b[39m\u001b[34m(name, size, bold, italic, constructor)\u001b[39m\n\u001b[32m    457\u001b[39m \u001b[38;5;28;01mif\u001b[39;00m italic \u001b[38;5;129;01mand\u001b[39;00m \u001b[38;5;129;01mnot\u001b[39;00m gotitalic:\n\u001b[32m    458\u001b[39m     set_italic = \u001b[38;5;28;01mTrue\u001b[39;00m\n\u001b[32m--> \u001b[39m\u001b[32m460\u001b[39m \u001b[38;5;28;01mreturn\u001b[39;00m \u001b[43mconstructor\u001b[49m\u001b[43m(\u001b[49m\u001b[43mfontname\u001b[49m\u001b[43m,\u001b[49m\u001b[43m \u001b[49m\u001b[43msize\u001b[49m\u001b[43m,\u001b[49m\u001b[43m \u001b[49m\u001b[43mset_bold\u001b[49m\u001b[43m,\u001b[49m\u001b[43m \u001b[49m\u001b[43mset_italic\u001b[49m\u001b[43m)\u001b[49m\n",
      "\u001b[36mFile \u001b[39m\u001b[32mc:\\Users\\wissa\\Documents\\coding\\ars_project\\.venv\\Lib\\site-packages\\pygame\\sysfont.py:378\u001b[39m, in \u001b[36mfont_constructor\u001b[39m\u001b[34m(fontpath, size, bold, italic)\u001b[39m\n\u001b[32m    366\u001b[39m \u001b[38;5;28;01mdef\u001b[39;00m\u001b[38;5;250m \u001b[39m\u001b[34mfont_constructor\u001b[39m(fontpath, size, bold, italic):\n\u001b[32m    367\u001b[39m \u001b[38;5;250m    \u001b[39m\u001b[33;03m\"\"\"\u001b[39;00m\n\u001b[32m    368\u001b[39m \u001b[33;03m    pygame.font specific declarations\u001b[39;00m\n\u001b[32m    369\u001b[39m \n\u001b[32m   (...)\u001b[39m\u001b[32m    375\u001b[39m \u001b[33;03m    :return: A font.Font object.\u001b[39;00m\n\u001b[32m    376\u001b[39m \u001b[33;03m    \"\"\"\u001b[39;00m\n\u001b[32m--> \u001b[39m\u001b[32m378\u001b[39m     font = \u001b[43mFont\u001b[49m\u001b[43m(\u001b[49m\u001b[43mfontpath\u001b[49m\u001b[43m,\u001b[49m\u001b[43m \u001b[49m\u001b[43msize\u001b[49m\u001b[43m)\u001b[49m\n\u001b[32m    379\u001b[39m     \u001b[38;5;28;01mif\u001b[39;00m bold:\n\u001b[32m    380\u001b[39m         font.set_bold(\u001b[38;5;28;01mTrue\u001b[39;00m)\n",
      "\u001b[31merror\u001b[39m: font not initialized"
     ]
    },
    {
     "ename": "",
     "evalue": "",
     "output_type": "error",
     "traceback": [
      "\u001b[1;31mThe Kernel crashed while executing code in the current cell or a previous cell. \n",
      "\u001b[1;31mPlease review the code in the cell(s) to identify a possible cause of the failure. \n",
      "\u001b[1;31mClick <a href='https://aka.ms/vscodeJupyterKernelCrash'>here</a> for more info. \n",
      "\u001b[1;31mView Jupyter <a href='command:jupyter.viewOutput'>log</a> for further details."
     ]
    }
   ],
   "source": [
    "# Cell 2: Main Simulation\n",
    "def run_simulation():\n",
    "    pygame.init()\n",
    "    \n",
    "    # Create environment\n",
    "    env = MapEnvironment(800, 600, num_obstacles=5, num_dust=10)\n",
    "    env.place_robot()\n",
    "    \n",
    "    running = True\n",
    "    clock = pygame.time.Clock()\n",
    "    \n",
    "    while running:\n",
    "        for event in pygame.event.get():\n",
    "            if event.type == pygame.QUIT:\n",
    "                running = False\n",
    "            elif event.type == pygame.KEYDOWN:\n",
    "                if event.key == pygame.K_ESCAPE:\n",
    "                    running = False\n",
    "        \n",
    "        env.handle_input()\n",
    "        env.update()\n",
    "        env.draw_screen()\n",
    "        pygame.display.flip()\n",
    "        clock.tick(60)\n",
    "    \n",
    "    pygame.quit()\n",
    "\n",
    "# Cell 3: Run simulation and show static plot\n",
    "# Run the interactive simulation\n",
    "run_simulation()\n",
    "\n",
    "# Create a static version for notebook display\n",
    "env = MapEnvironment(800, 600, num_obstacles=5, num_dust=10)\n",
    "env.place_robot()\n",
    "env.plot()"
   ]
  }
 ],
 "metadata": {
  "kernelspec": {
   "display_name": "Python 3",
   "language": "python",
   "name": "python3"
  },
  "language_info": {
   "codemirror_mode": {
    "name": "ipython",
    "version": 2
   },
   "file_extension": ".py",
   "mimetype": "text/x-python",
   "name": "python",
   "nbconvert_exporter": "python",
   "pygments_lexer": "ipython2",
   "version": "2.7.6"
  }
 },
 "nbformat": 4,
 "nbformat_minor": 5
}
